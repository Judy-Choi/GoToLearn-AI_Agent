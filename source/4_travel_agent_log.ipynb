{
 "cells": [
  {
   "cell_type": "markdown",
   "metadata": {},
   "source": [
    "##  Travel Agent 최종 버전\n",
    "- 호출되는 tool 정보 및 정상 호출 여부를 체크할 수 있도록 log 출력\n",
    "- 각각의 툴에 logging 함수를 wrapping 한다."
   ]
  },
  {
   "cell_type": "code",
   "execution_count": 1,
   "metadata": {},
   "outputs": [
    {
     "data": {
      "text/plain": [
       "True"
      ]
     },
     "execution_count": 1,
     "metadata": {},
     "output_type": "execute_result"
    }
   ],
   "source": [
    "from dotenv import load_dotenv\n",
    "\n",
    "# .env 파일의 환경변수를 기존 값과 상관없이 덮어쓰기\n",
    "load_dotenv(override=True)"
   ]
  },
  {
   "cell_type": "code",
   "execution_count": 2,
   "metadata": {},
   "outputs": [],
   "source": [
    "# 에이전트 실행 시 로깅을 활성화\n",
    "import logging\n",
    "logging.basicConfig(level=logging.INFO)"
   ]
  },
  {
   "cell_type": "code",
   "execution_count": 3,
   "metadata": {},
   "outputs": [],
   "source": [
    "# Debug 모드로 실행할 경우 다음 주석 해제 후 실행\n",
    "# from langchain.globals import set_debug\n",
    "# set_debug(True)"
   ]
  },
  {
   "cell_type": "code",
   "execution_count": 3,
   "metadata": {},
   "outputs": [],
   "source": [
    "from collections import defaultdict\n",
    "import traceback\n",
    "from langchain_core.tools import Tool\n",
    "\n",
    "_call_counts = defaultdict(int)\n",
    "\n",
    "def wrap_func_with_logging(original_func, tool_name):\n",
    "    def wrapped(input, *, config=None):\n",
    "        _call_counts[tool_name] += 1\n",
    "        call_id = _call_counts[tool_name]\n",
    "        print(f\"[🛠️ {tool_name}] Call #{call_id} - Called with input: {repr(input)}\")\n",
    "        try:\n",
    "            result = original_func(input)\n",
    "            \n",
    "            # 결과에 에러가 포함되어 있는지 확인\n",
    "            result_str = str(result)\n",
    "            if result and not any(error_keyword in result_str for error_keyword in ['HTTPError', 'Error:', 'error:', 'Exception', 'Failed']):\n",
    "                print(f\"[✅ {tool_name}] Call #{call_id} - Success. Result: {result_str[:300]}\")\n",
    "            elif result:\n",
    "                print(f\"[❌ {tool_name}] Call #{call_id} - API Error in result: {result_str[:300]}\")\n",
    "            else:\n",
    "                print(f\"[⚠️ {tool_name}] Call #{call_id} - No result returned.\")\n",
    "            return result\n",
    "        except Exception as e:\n",
    "            print(f\"[❌ {tool_name}] Call #{call_id} - Error: {e}\")\n",
    "            print(traceback.format_exc())\n",
    "            raise\n",
    "    return wrapped\n",
    "\n",
    "\n",
    "def logging_tool(func, name, description):\n",
    "\n",
    "    if callable(func) and not hasattr(func, \"invoke\"):\n",
    "        # 순수 함수형 도구\n",
    "        func = wrap_func_with_logging(func, name)\n",
    "        return Tool(name=name, func=func, description=description)\n",
    "\n",
    "    elif hasattr(func, \"invoke\"):\n",
    "        # LangChain-style Tool → 직접 감싸지 말고 아예 래핑된 Tool을 새로 정의\n",
    "        class WrappedTool(func.__class__):\n",
    "            def invoke(self, input, config=None):\n",
    "                _call_counts[name] += 1\n",
    "                call_id = _call_counts[name]\n",
    "                print(f\"[🛠️ {name}] Call #{call_id} - Called with input: {repr(input)}\")\n",
    "                try:\n",
    "                    result = super().invoke(input, config=config)\n",
    "                    \n",
    "                    # 결과에 에러가 포함되어 있는지 확인\n",
    "                    result_str = str(result)\n",
    "                    if result and not any(error_keyword in result_str for error_keyword in ['HTTPError', 'Error:', 'error:', 'Exception', 'Failed']):\n",
    "                        print(f\"[✅ {name}] Call #{call_id} - Success. Result: {result_str[:300]}\")\n",
    "                    elif result:\n",
    "                        print(f\"[❌ {name}] Call #{call_id} - API Error in result: {result_str[:300]}\")\n",
    "                    else:\n",
    "                        print(f\"[⚠️ {name}] Call #{call_id} - No result returned.\")\n",
    "                    return result\n",
    "                except Exception as e:\n",
    "                    print(f\"[❌ {name}] Call #{call_id} - Error: {e}\")\n",
    "                    print(traceback.format_exc())\n",
    "                    raise\n",
    "\n",
    "        return WrappedTool(name=name, description=description)\n",
    "\n",
    "    else:\n",
    "        raise ValueError(\"func must be a callable or have an .invoke() method\")\n"
   ]
  },
  {
   "cell_type": "code",
   "execution_count": 4,
   "metadata": {},
   "outputs": [
    {
     "name": "stderr",
     "output_type": "stream",
     "text": [
      "/var/folders/j1/rm0gdwk50j339fwgq9nr34t40000gn/T/ipykernel_73122/2386748563.py:12: LangChainDeprecationWarning: The class `TavilySearchResults` was deprecated in LangChain 0.3.25 and will be removed in 1.0. An updated version of the class exists in the :class:`~langchain-tavily package and should be used instead. To use it run `pip install -U :class:`~langchain-tavily` and import as `from :class:`~langchain_tavily import TavilySearch``.\n",
      "  func=TavilySearchResults(max_results=3),\n"
     ]
    }
   ],
   "source": [
    "from langchain_community.tools.tavily_search import TavilySearchResults\n",
    "\n",
    "# 원래 tavily tool 정의는 다음 3줄이면 가능하지만\n",
    "# tavily_search = TavilySearchResults(max_results=3)\n",
    "# # 웹 검색 도구 tavily의 이름과 설명을 설정합니다.\n",
    "# tavily_search.name = \"tavily_search\"\n",
    "# tavily_search.description = \"Use this tool to search on the web using tavily\"\n",
    "\n",
    "# 로그를 찍기 위해 logging_tool 함수로 래핑\n",
    "tavily_search = logging_tool(\n",
    "    name=\"tavily_search\",\n",
    "    func=TavilySearchResults(max_results=3),\n",
    "    description=\"Search with Tavily\"\n",
    ")"
   ]
  },
  {
   "cell_type": "code",
   "execution_count": 5,
   "metadata": {},
   "outputs": [],
   "source": [
    "from langchain_community.utilities import GoogleSerperAPIWrapper\n",
    "\n",
    "serper_search = logging_tool(\n",
    "    name=\"serper_search\",\n",
    "    func=GoogleSerperAPIWrapper().run,\n",
    "    description=\"Search with Serper\"\n",
    ")"
   ]
  },
  {
   "cell_type": "code",
   "execution_count": 6,
   "metadata": {},
   "outputs": [],
   "source": [
    "from langchain_community.utilities import GoogleSerperAPIWrapper\n",
    "\n",
    "serper_places = logging_tool(\n",
    "        name=\"serper_places\",\n",
    "        func=GoogleSerperAPIWrapper(type=\"places\").run,\n",
    "        description=\"Use this tool to get information of the place\",\n",
    "    )"
   ]
  },
  {
   "cell_type": "code",
   "execution_count": 7,
   "metadata": {},
   "outputs": [],
   "source": [
    "from langchain_community.tools import WikipediaQueryRun\n",
    "from langchain_community.utilities import WikipediaAPIWrapper\n",
    "\n",
    "wikipedia_search = logging_tool(\n",
    "    name=\"wikipedia_search\",\n",
    "    func=WikipediaQueryRun(api_wrapper=WikipediaAPIWrapper()).run,\n",
    "    description=\"Use this tool to search on the wikipedia\"\n",
    ")"
   ]
  },
  {
   "cell_type": "code",
   "execution_count": 8,
   "metadata": {},
   "outputs": [
    {
     "name": "stderr",
     "output_type": "stream",
     "text": [
      "/Users/judy/Documents/__GoToLearn_2기__/agent_project/travel-agent/.venv/lib/python3.12/site-packages/pyowm/commons/cityidregistry.py:7: UserWarning: pkg_resources is deprecated as an API. See https://setuptools.pypa.io/en/latest/pkg_resources.html. The pkg_resources package is slated for removal as early as 2025-11-30. Refrain from using this package or pin to Setuptools<81.\n",
      "  from pkg_resources import resource_filename\n"
     ]
    }
   ],
   "source": [
    "from langchain_community.utilities import OpenWeatherMapAPIWrapper\n",
    "\n",
    "weather_search = logging_tool(\n",
    "    name=\"weather_search\",\n",
    "    func=OpenWeatherMapAPIWrapper().run,\n",
    "    description=\"Use this tool to search the weather of a city or country\"\n",
    ")"
   ]
  },
  {
   "cell_type": "code",
   "execution_count": 9,
   "metadata": {},
   "outputs": [],
   "source": [
    "from langchain_community.tools import YouTubeSearchTool\n",
    "\n",
    "youtube_search = logging_tool(\n",
    "    name=\"youtube_search\",\n",
    "    func=YouTubeSearchTool().run,\n",
    "    description=\"Use this tool to search on the youtube\"\n",
    ")"
   ]
  },
  {
   "cell_type": "code",
   "execution_count": 10,
   "metadata": {},
   "outputs": [],
   "source": [
    "tools = [\n",
    "    # 웹 검색\n",
    "    tavily_search,\n",
    "    serper_search, \n",
    "    # Google places 정보 검색\n",
    "    serper_places,\n",
    "    # 위키피디아 검색\n",
    "    wikipedia_search,\n",
    "    # 날씨 검색\n",
    "    weather_search,\n",
    "    # 유튜브 검색\n",
    "    youtube_search\n",
    "    ]"
   ]
  },
  {
   "cell_type": "code",
   "execution_count": 11,
   "metadata": {},
   "outputs": [],
   "source": [
    "from langchain_openai import ChatOpenAI\n",
    "\n",
    "llm = ChatOpenAI(\n",
    "    model='gpt-4o-mini',\n",
    "    # max_tokens=128 # 테스트가 필요할 경우 token 수를 제한하여 비용을 절약할 수 있음\n",
    "    )"
   ]
  },
  {
   "cell_type": "code",
   "execution_count": 12,
   "metadata": {},
   "outputs": [],
   "source": [
    "from typing import TypedDict\n",
    "\n",
    "class State(TypedDict):\n",
    "    user_input: str\n",
    "    plan: str\n",
    "    cost: str\n",
    "    output: str"
   ]
  },
  {
   "cell_type": "code",
   "execution_count": 13,
   "metadata": {},
   "outputs": [],
   "source": [
    "from langgraph.prebuilt import create_react_agent\n",
    "from langchain_core.messages import SystemMessage, HumanMessage\n",
    "import os\n",
    "\n",
    "def planner_agent(state: State):\n",
    "    print(\"🗺️ 여행 일정을 생성합니다.\")\n",
    "    planner = create_react_agent(\n",
    "        llm, tools, prompt=\"당신은 여행 비서 어시스턴트입니다. 여행자의 기본정보를 참고하여, 질문에 정중하고 구체적으로 대답하세요.\"\n",
    "    )\n",
    "\n",
    "    system_prompt = \"\"\"\n",
    "    여행 날짜는 과거를 포함하지 않습니다.\n",
    "    여행 장소는 웹 검색 결과 최근 1년 이내의 정보를 이용해 선정합니다.\n",
    "    여행자가 방문할 장소의 주소를 반드시 제공하고, 여행 정보를 제공해 주세요. 정보는 방문 가능 여부와 운영일 및 운영시간, 입장료, 홈페이지 등을 포함합니다.\n",
    "    여행 장소는 하루에 최소 2개 이상 추천하고, 여행 일정은 방문 장소의 주소와 운영일 및 운영시간을 참고하여 방문 가능 여부를 판별한 후 최대한 이동 동선이 짧게 효율적으로 작성해 주세요.\n",
    "    방문할 날짜의 날씨 정보를 제공하고, 여행에 도움이 될 유튜브 비디오를 3개 이상 추천하세요.\n",
    "    최종 답변은 markdown 형식으로 작성합니다.\n",
    "    \"\"\"\n",
    "\n",
    "    response = planner.invoke({\n",
    "        \"messages\": [\n",
    "            SystemMessage(content=system_prompt),\n",
    "            HumanMessage(content=state['user_input'])\n",
    "        ]\n",
    "    })\n",
    "\n",
    "    state['plan'] = response[\"messages\"][-1].content\n",
    "\n",
    "    os.makedirs(\"../output\", exist_ok=True)\n",
    "\n",
    "    # Markdown 저장\n",
    "    with open(f\"../output/plan.md\", \"w\", encoding=\"utf-8\") as f:\n",
    "        f.write(response[\"messages\"][-1].content)\n",
    "    print(f\"📝 Markdown 저장 완료: ../output/plan.md\")\n",
    "\n",
    "    return state"
   ]
  },
  {
   "cell_type": "code",
   "execution_count": 14,
   "metadata": {},
   "outputs": [],
   "source": [
    "def calc_agent(state: State):\n",
    "    print(\"🧮 여행 비용을 계산합니다.\")\n",
    "    cost_agent = create_react_agent(\n",
    "        llm,\n",
    "        tools,\n",
    "        prompt=\"당신은 여행 예산 계산 도우미입니다. 여행자의 정보와 여행 정보를 받아 인원수에 따른 총 비용 합계를 계산하세요.\"\n",
    "    )\n",
    "\n",
    "    system_prompt = \"\"\"친구, 배우자 등 사용자 이외에 동행하는 여행자가 있는 경우 인원수를 추가하여 비용을 계산합니다.\n",
    "        비용 정보가 존재하지 않는 경우 웹에서 검색합니다.\n",
    "        비용은 현지 화폐 단위로 계산하고, 반드시 웹에서 현재 환율을 검색한 뒤 적용하여 한국 화폐로 환전한 비용도 함께 명시해 주세요.\n",
    "        최종 답변은 markdown 형식으로 작성합니다.\"\"\"\n",
    "\n",
    "    response = cost_agent.invoke({\n",
    "        \"messages\": [\n",
    "            SystemMessage(content=system_prompt),\n",
    "            HumanMessage(content=\"여행자 정보: \" + state['user_input']),\n",
    "            HumanMessage(content=\"비용을 포함한 여행 정보: \" + state['plan']),\n",
    "        ]\n",
    "    })\n",
    "\n",
    "    state[\"cost\"] = response[\"messages\"][-1].content\n",
    "\n",
    "    os.makedirs(\"../output\", exist_ok=True)\n",
    "\n",
    "    # Markdown 저장\n",
    "    with open(f\"../output/cost.md\", \"w\", encoding=\"utf-8\") as f:\n",
    "        f.write(response[\"messages\"][-1].content)\n",
    "    print(f\"📝 Markdown 저장 완료: ../output/cost.md\")\n",
    "\n",
    "    return state"
   ]
  },
  {
   "cell_type": "code",
   "execution_count": 15,
   "metadata": {},
   "outputs": [],
   "source": [
    "from langchain_core.messages import HumanMessage\n",
    "import markdown2  # pip install markdown2\n",
    "from datetime import datetime\n",
    "import os\n",
    "\n",
    "\n",
    "def save_handbook(state: State, filename=\"handbook\"):\n",
    "    markdown_text = state[\"output\"]\n",
    "    \n",
    "    # HTML 변환\n",
    "    html_body = markdown2.markdown(markdown_text)\n",
    "\n",
    "    # HTML 템플릿\n",
    "    html_template = f\"\"\"\n",
    "    <html>\n",
    "    <head>\n",
    "        <meta charset=\"utf-8\">\n",
    "        <title>여행 가이드북</title>\n",
    "        <style>\n",
    "            body {{\n",
    "                font-family: 'Helvetica', sans-serif;\n",
    "                padding: 40px;\n",
    "                line-height: 1.6;\n",
    "                background-color: #fefefe;\n",
    "                color: #333;\n",
    "            }}\n",
    "            h1, h2, h3 {{ color: #2c3e50; }}\n",
    "            table {{ border-collapse: collapse; width: 100%; margin-top: 20px; }}\n",
    "            th, td {{ border: 1px solid #ccc; padding: 8px; text-align: left; }}\n",
    "        </style>\n",
    "    </head>\n",
    "    <body>\n",
    "        <h1>🗺️ 여행 가이드북</h1>\n",
    "        <div class=\"meta\">생성일: {datetime.now().strftime('%Y-%m-%d')}</div>\n",
    "        {html_body}\n",
    "    </body>\n",
    "    </html>\n",
    "    \"\"\"\n",
    "\n",
    "    os.makedirs(\"../output\", exist_ok=True)\n",
    "\n",
    "    # Markdown 저장\n",
    "    with open(f\"../output/{filename}.md\", \"w\", encoding=\"utf-8\") as f:\n",
    "        f.write(markdown_text)\n",
    "    print(f\"📝 Markdown 저장 완료: ../output/{filename}.md\")\n",
    "\n",
    "    # HTML 저장\n",
    "    with open(f\"../output/{filename}.html\", \"w\", encoding=\"utf-8\") as f:\n",
    "        f.write(html_template)\n",
    "    print(f\"🌐 HTML 저장 완료: ../output/{filename}.html\")\n",
    "\n",
    "\n",
    "def handbook_agent(state: State):\n",
    "    print(\"🗒️ 여행용 핸드북을 생성합니다.\")\n",
    "\n",
    "    writer_prompt = \"\"\"당신은 여행자와 함께 여행 가이드북을 만드는 작가입니다.\n",
    "\n",
    "다음 정보를 바탕으로 하나의 여행 가이드북 문서를 작성하세요:\n",
    "\n",
    "- 여행 개요\n",
    "- 일자별 일정 (가능하면 시간대 포함)\n",
    "- 추천 명소 및 활동\n",
    "- 전체 예산 요약 (한화 기준으로 총합 포함)\n",
    "\n",
    "**작성 방식:**\n",
    "- 마크다운 형식 사용 (## 제목, ### 부제목, 리스트 등)\n",
    "- 친절하고 여행자의 설렘을 자극하는 말투 사용\n",
    "- 필요 시 날짜별 구분을 넣어 일정 정리\n",
    "- 사용자 정보, 여행 일정, 비용 정보를 최대한 많이 참고하여 자세하게 가이드북을 작성\n",
    "\"\"\"\n",
    "\n",
    "    writer_agent = create_react_agent(llm, tools, prompt=writer_prompt)\n",
    "\n",
    "    response = writer_agent.invoke({\n",
    "        \"messages\": [\n",
    "            HumanMessage(content=f\"사용자 정보:\\n{state['user_input']}\"),\n",
    "            HumanMessage(content=f\"여행 일정:\\n{state['plan']}\"),\n",
    "            HumanMessage(content=f\"비용 정보:\\n{state['cost']}\"),\n",
    "        ]\n",
    "    })\n",
    "\n",
    "    state[\"output\"] = response[\"messages\"][-1].content\n",
    "\n",
    "    save_handbook(state, filename=\"handbook\")\n",
    "\n",
    "    return state"
   ]
  },
  {
   "cell_type": "code",
   "execution_count": 16,
   "metadata": {},
   "outputs": [],
   "source": [
    "from langgraph.graph import StateGraph, END\n",
    "\n",
    "workflow = StateGraph(State)\n",
    "\n",
    "workflow.add_node(\"Travel_Planner\", planner_agent)\n",
    "workflow.add_node(\"Calc_agent\", calc_agent)\n",
    "workflow.add_node(\"Handbook_agent\", handbook_agent)\n",
    "\n",
    "workflow.set_entry_point(\"Travel_Planner\")\n",
    "workflow.add_edge(\"Travel_Planner\", \"Calc_agent\")\n",
    "workflow.add_edge(\"Calc_agent\", \"Handbook_agent\")\n",
    "workflow.add_edge(\"Handbook_agent\", END)\n",
    "\n",
    "graph = workflow.compile()"
   ]
  },
  {
   "cell_type": "code",
   "execution_count": 17,
   "metadata": {},
   "outputs": [
    {
     "data": {
      "image/png": "[encoded data removed]",
      "text/plain": [
       "<IPython.core.display.Image object>"
      ]
     },
     "metadata": {},
     "output_type": "display_data"
    }
   ],
   "source": [
    "from IPython.display import Image, display\n",
    "# Mermaid 시각화\n",
    "try:\n",
    "    display(Image(graph.get_graph().draw_mermaid_png()))\n",
    "except Exception as e:\n",
    "    print(\"그래프 시각화 실패:\", e)\n",
    "    print(graph.get_graph().draw_mermaid())  # 소스코드 출력"
   ]
  },
  {
   "cell_type": "code",
   "execution_count": 18,
   "metadata": {},
   "outputs": [
    {
     "name": "stdout",
     "output_type": "stream",
     "text": [
      "🗺️ 여행 일정을 생성합니다.\n"
     ]
    },
    {
     "name": "stderr",
     "output_type": "stream",
     "text": [
      "INFO:httpx:HTTP Request: POST https://api.openai.com/v1/chat/completions \"HTTP/1.1 200 OK\"\n"
     ]
    },
    {
     "name": "stdout",
     "output_type": "stream",
     "text": [
      "[🛠️ weather_search] Call #1 - Called with input: 'Paris, France'\n",
      "[🛠️ serper_places] Call #1 - Called with input: 'popular cultural and artistic sites in Paris'\n",
      "[🛠️ serper_places] Call #2 - Called with input: 'popular architectural sites in Paris and nearby'\n",
      "[✅ weather_search] Call #1 - Success. Result: In Paris, France, the current weather is as follows:\n",
      "Detailed status: clear sky\n",
      "Wind speed: 1.54 m/s, direction: 350°\n",
      "Humidity: 85%\n",
      "Temperature: \n",
      "  - Current: 12.35°C\n",
      "  - High: 13.28°C\n",
      "  - Low: 10.77°C\n",
      "  - Feels like: 11.86°C\n",
      "Rain: {}\n",
      "Heat index: None\n",
      "Cloud cover: 0%\n",
      "[✅ serper_places] Call #1 - Success. Result: No good Google Search Result was found[✅ serper_places] Call #2 - Success. Result: No good Google Search Result was found\n",
      "\n"
     ]
    },
    {
     "name": "stderr",
     "output_type": "stream",
     "text": [
      "INFO:httpx:HTTP Request: POST https://api.openai.com/v1/chat/completions \"HTTP/1.1 200 OK\"\n"
     ]
    },
    {
     "name": "stdout",
     "output_type": "stream",
     "text": [
      "[🛠️ tavily_search] Call #1 - Called with input: {'name': 'tavily_search', 'args': {'query': 'cultural sites in Paris'}, 'id': 'call_tS6lSMPtFTYXpIdmtYzKUlZ3', 'type': 'tool_call'}\n",
      "[🛠️ tavily_search] Call #2 - Called with input: {'name': 'tavily_search', 'args': {'query': 'architectural sites in Paris and nearby'}, 'id': 'call_oRFI5tzOqloH7Zwr4Bnimnkb', 'type': 'tool_call'}\n",
      "[🛠️ tavily_search] Call #3 - Called with input: {'name': 'tavily_search', 'args': {'query': 'artistic sites in Paris'}, 'id': 'call_wZIAc2J9dATUd7Mrj8W8ztZB', 'type': 'tool_call'}\n",
      "[❌ tavily_search] Call #2 - API Error in result: content=\"HTTPError('502 Server Error: Bad Gateway for url: https://api.tavily.com/search')\" name='tavily_search' tool_call_id='call_oRFI5tzOqloH7Zwr4Bnimnkb' artifact={}\n",
      "[❌ tavily_search] Call #3 - API Error in result: content=\"HTTPError('502 Server Error: Bad Gateway for url: https://api.tavily.com/search')\" name='tavily_search' tool_call_id='call_wZIAc2J9dATUd7Mrj8W8ztZB' artifact={}\n",
      "[✅ tavily_search] Call #1 - Success. Result: content='[{\"title\": \"Places in Paris where you can explore world cultures\", \"url\": \"https://parisjetaime.com/eng/article/places-in-paris-where-you-can-explore-world-cultures-a723\", \"content\": \"Institutes, cultural centres and gardens · Musée du quai Branly - Jacques Chirac · Musée du Louvre · Philha\n"
     ]
    },
    {
     "name": "stderr",
     "output_type": "stream",
     "text": [
      "INFO:httpx:HTTP Request: POST https://api.openai.com/v1/chat/completions \"HTTP/1.1 200 OK\"\n"
     ]
    },
    {
     "name": "stdout",
     "output_type": "stream",
     "text": [
      "[🛠️ serper_places] Call #3 - Called with input: 'famous cultural landmarks in Paris'[🛠️ serper_places] Call #4 - Called with input: 'particularly focused on art and architecture'\n",
      "\n",
      "[✅ serper_places] Call #3 - Success. Result: No good Google Search Result was found\n",
      "[✅ serper_places] Call #4 - Success. Result: No good Google Search Result was found\n"
     ]
    },
    {
     "name": "stderr",
     "output_type": "stream",
     "text": [
      "INFO:httpx:HTTP Request: POST https://api.openai.com/v1/chat/completions \"HTTP/1.1 200 OK\"\n"
     ]
    },
    {
     "name": "stdout",
     "output_type": "stream",
     "text": [
      "📝 Markdown 저장 완료: ../output/plan.md\n",
      "🧮 여행 비용을 계산합니다.\n"
     ]
    },
    {
     "name": "stderr",
     "output_type": "stream",
     "text": [
      "INFO:httpx:HTTP Request: POST https://api.openai.com/v1/chat/completions \"HTTP/1.1 200 OK\"\n"
     ]
    },
    {
     "name": "stdout",
     "output_type": "stream",
     "text": [
      "[🛠️ tavily_search] Call #4 - Called with input: {'name': 'tavily_search', 'args': {'query': 'Louvre Museum entrance fee in Korean Won'}, 'id': 'call_dBItrl7smNG6xegLOJZfAP9k', 'type': 'tool_call'}\n",
      "[🛠️ tavily_search] Call #5 - Called with input: {'name': 'tavily_search', 'args': {'query': \"Musée d'Orsay entrance fee in Korean Won\"}, 'id': 'call_nMkKfWp2U58aeX6ZfjBHm0Sq', 'type': 'tool_call'}\n",
      "[🛠️ tavily_search] Call #6 - Called with input: {'name': 'tavily_search', 'args': {'query': 'Eiffel Tower entrance fee in Korean Won'}, 'id': 'call_t8zCgLDzdE7CfxY4mGta7tVM', 'type': 'tool_call'}\n",
      "[❌ tavily_search] Call #5 - API Error in result: content=\"HTTPError('502 Server Error: Bad Gateway for url: https://api.tavily.com/search')\" name='tavily_search' tool_call_id='call_nMkKfWp2U58aeX6ZfjBHm0Sq' artifact={}\n",
      "[❌ tavily_search] Call #4 - API Error in result: content=\"HTTPError('502 Server Error: Bad Gateway for url: https://api.tavily.com/search')\" name='tavily_search' tool_call_id='call_dBItrl7smNG6xegLOJZfAP9k' artifact={}\n",
      "[❌ tavily_search] Call #6 - API Error in result: content=\"HTTPError('502 Server Error: Bad Gateway for url: https://api.tavily.com/search')\" name='tavily_search' tool_call_id='call_t8zCgLDzdE7CfxY4mGta7tVM' artifact={}\n"
     ]
    },
    {
     "name": "stderr",
     "output_type": "stream",
     "text": [
      "INFO:httpx:HTTP Request: POST https://api.openai.com/v1/chat/completions \"HTTP/1.1 200 OK\"\n"
     ]
    },
    {
     "name": "stdout",
     "output_type": "stream",
     "text": [
      "[🛠️ serper_search] Call #1 - Called with input: 'current exchange rate EUR to KRW'\n",
      "[🛠️ serper_search] Call #2 - Called with input: 'Louvre Museum entrance fee'\n",
      "[🛠️ serper_search] Call #3 - Called with input: \"Musée d'Orsay entrance fee\"\n",
      "[🛠️ serper_search] Call #4 - Called with input: 'Eiffel Tower entrance fee'\n",
      "[✅ serper_search] Call #4 - Success. Result: Rates and opening times to visit the Eiffel Tower. Prices: €14,20 to €35.30 maximum for adults and €3,60 to €17.70 for children and young people. Discover or visit the tower: buy a ticket (11.8 to 29.4 € maximum for adults and 3 to 14.7 € for children and young people), news and practical informatio\n",
      "[✅ serper_search] Call #2 - Success. Result: Opening hours and prices for the Louvre, Tuileries Garden and Musée National Eugène-Delacroix. Admission to the Musée du Louvre and the Musée National Eugène-Delacroix is free upon presentation of valid proof of eligibility. See free admission conditions. Admission to the Musée du Louvre and the Mus\n",
      "[✅ serper_search] Call #1 - Success. Result: Download Our Currency Converter App ; 1 EUR, 1,608.26000 KRW ; 5 EUR, 8,041.30000 KRW ; 10 EUR, 16,082.60000 KRW ; 20 EUR, 32,165.20000 KRW. Convert Euro to South Korean Won ; 1 EUR. 1,607.58 KRW ; 5 EUR. 8,037.92 KRW ; 10 EUR. 16,075.8 KRW ; 25 EUR. 40,189.6 KRW ; 50 EUR. 80,379.2 KRW. Euros to Sou\n",
      "[✅ serper_search] Call #3 - Success. Result: Free-admission visitors · 1st Sunday of the month: free for all : the reservation of a visit slot is mandatory · Under 18 years old · 18-25 year-old from the ... 1st Sunday of the month: free for all. From Sunday, October 2, 2022, online booking of a visit is mandatory, except for holders of a Carte\n"
     ]
    },
    {
     "name": "stderr",
     "output_type": "stream",
     "text": [
      "INFO:httpx:HTTP Request: POST https://api.openai.com/v1/chat/completions \"HTTP/1.1 200 OK\"\n"
     ]
    },
    {
     "name": "stdout",
     "output_type": "stream",
     "text": [
      "📝 Markdown 저장 완료: ../output/cost.md\n",
      "🗒️ 여행용 핸드북을 생성합니다.\n"
     ]
    },
    {
     "name": "stderr",
     "output_type": "stream",
     "text": [
      "INFO:httpx:HTTP Request: POST https://api.openai.com/v1/chat/completions \"HTTP/1.1 200 OK\"\n"
     ]
    },
    {
     "name": "stdout",
     "output_type": "stream",
     "text": [
      "📝 Markdown 저장 완료: ../output/handbook.md\n",
      "🌐 HTML 저장 완료: ../output/handbook.html\n",
      "✅ Travel-Agent 의 작업이 완료되었습니다.\n"
     ]
    }
   ],
   "source": [
    "user_input = \"나는 문화와 예술, 건축을 사랑해서 친구와 둘이서 6월 23일부터 25일까지 프랑스 파리를 여행할 예정이야. 파리 근교를 포함해 인기 많은 여행지 위주의 일일 여행 코스를 추천해 줘.\"\n",
    "response = graph.invoke({\"user_input\" : user_input})\n",
    "print(\"✅ Travel-Agent 의 작업이 완료되었습니다.\")"
   ]
  },
  {
   "cell_type": "code",
   "execution_count": null,
   "metadata": {},
   "outputs": [],
   "source": []
  }
 ],
 "metadata": {
  "kernelspec": {
   "display_name": "Python (travel-agent)",
   "language": "python",
   "name": "travel-agent"
  },
  "language_info": {
   "codemirror_mode": {
    "name": "ipython",
    "version": 3
   },
   "file_extension": ".py",
   "mimetype": "text/x-python",
   "name": "python",
   "nbconvert_exporter": "python",
   "pygments_lexer": "ipython3",
   "version": "3.12.7"
  }
 },
 "nbformat": 4,
 "nbformat_minor": 2
}
