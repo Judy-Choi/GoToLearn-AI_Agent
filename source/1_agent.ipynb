{
 "cells": [
  {
   "cell_type": "markdown",
   "metadata": {},
   "source": [
    "```\n",
    "[Start] \n",
    "  ↓\n",
    "DatePlannerAgent\n",
    "  ↓\n",
    "CityPlannerAgent\n",
    "  ↓\n",
    "FlightSearchAgent\n",
    "  ↓\n",
    "[End]\n",
    "```"
   ]
  },
  {
   "cell_type": "code",
   "execution_count": 1,
   "metadata": {},
   "outputs": [
    {
     "data": {
      "text/plain": [
       "True"
      ]
     },
     "execution_count": 1,
     "metadata": {},
     "output_type": "execute_result"
    }
   ],
   "source": [
    "from dotenv import load_dotenv\n",
    "\n",
    "# .env 파일의 환경변수를 기존 값과 상관없이 덮어쓰기\n",
    "load_dotenv(override=True)"
   ]
  },
  {
   "cell_type": "code",
   "execution_count": 2,
   "metadata": {},
   "outputs": [
    {
     "name": "stdout",
     "output_type": "stream",
     "text": [
      "🦜Tracing 'Travel_Agent' by LangSmith\n"
     ]
    }
   ],
   "source": [
    "from tools.debugs import check_langsmith_env\n",
    "\n",
    "check_langsmith_env()"
   ]
  },
  {
   "cell_type": "code",
   "execution_count": 2,
   "metadata": {},
   "outputs": [
    {
     "name": "stderr",
     "output_type": "stream",
     "text": [
      "/var/folders/j1/rm0gdwk50j339fwgq9nr34t40000gn/T/ipykernel_66849/176521888.py:5: LangChainDeprecationWarning: The class `ChatOpenAI` was deprecated in LangChain 0.0.10 and will be removed in 1.0. An updated version of the class exists in the :class:`~langchain-openai package and should be used instead. To use it run `pip install -U :class:`~langchain-openai` and import as `from :class:`~langchain_openai import ChatOpenAI``.\n",
      "  llm = ChatOpenAI(\n"
     ]
    }
   ],
   "source": [
    "from langchain.chat_models import ChatOpenAI\n",
    "import os\n",
    "\n",
    "\n",
    "llm = ChatOpenAI(\n",
    "    # model_name=\"deepseek/deepseek-chat:free\",\n",
    "    model_name=\"meta-llama/llama-3.3-70b-instruct:free\",\n",
    "    temperature=0,\n",
    "    openai_api_base=\"https://openrouter.ai/api/v1\",\n",
    "    openai_api_key=os.getenv(\"OPENROUTER_API_KEY\")\n",
    ")"
   ]
  },
  {
   "cell_type": "code",
   "execution_count": 3,
   "metadata": {},
   "outputs": [],
   "source": [
    "from langgraph.graph import StateGraph, END\n",
    "from typing import TypedDict, Optional, List\n",
    "\n",
    "# 상태 정의\n",
    "class TravelState(TypedDict):\n",
    "    start_date: Optional[str]\n",
    "    end_date: Optional[str]\n",
    "    destination_city: Optional[str]\n",
    "    flight_options: Optional[List[str]]\n",
    "\n",
    "# 날짜 묻는 노드\n",
    "def ask_dates(state: TravelState) -> TravelState:\n",
    "    print(\"📅 여행 시작일과 종료일을 입력해 주세요. (예: 2025-04-10 ~ 2025-04-12)\")\n",
    "    response = input(\"→ 입력: \")\n",
    "\n",
    "    try:\n",
    "        # 간단한 파싱 (실제 파서랑 연결하면 더 좋아)\n",
    "        start, end = response.split(\"~\")\n",
    "        state[\"start_date\"] = start.strip()\n",
    "        state[\"end_date\"] = end.strip()\n",
    "    except Exception as e:\n",
    "        print(\"⚠️ 날짜 형식을 인식할 수 없어요! 기본값을 사용할게요.\")\n",
    "        state[\"start_date\"] = \"2025-04-10\"\n",
    "        state[\"end_date\"] = \"2025-04-12\"\n",
    "\n",
    "    return state\n",
    "\n",
    "# 도시 묻는 노드\n",
    "def ask_city(state: TravelState) -> TravelState:\n",
    "    print(\"📍 여행할 도시를 입력해 주세요.\")\n",
    "    city = input(\"→ 입력: \")\n",
    "    state[\"destination_city\"] = city.strip()\n",
    "    return state\n",
    "\n",
    "# 항공편 찾는 노드\n",
    "def search_flights(state: TravelState) -> TravelState:\n",
    "    print(f\"\\n✈️ 항공편 검색 중...\")\n",
    "    print(f\"   날짜: {state['start_date']} ~ {state['end_date']}\")\n",
    "    print(f\"   도시: {state['destination_city']}\\n\")\n",
    "\n",
    "    state[\"flight_options\"] = [\n",
    "        f\"{state['start_date']} 출발 ✈️ Flight A\",\n",
    "        f\"{state['end_date']} 귀국 ✈️ Flight B\"\n",
    "    ]\n",
    "    return state\n",
    "\n",
    "\n",
    "# ✅ LangGraph 구성 (질문 처리를 위한 구조 추가!)\n",
    "graph = StateGraph(TravelState)\n",
    "graph.add_node(\"ask_dates\", ask_dates)\n",
    "graph.add_node(\"ask_city\", ask_city)\n",
    "graph.add_node(\"search_flights\", search_flights)\n",
    "\n",
    "# ✅ 흐름 구성 (질문을 중간에 처리)\n",
    "graph.set_entry_point(\"ask_dates\")\n",
    "graph.add_edge(\"ask_dates\", \"ask_city\")  # 질문 먼저 체크\n",
    "graph.add_edge(\"ask_city\", \"search_flights\")   # 또 질문 체크\n",
    "graph.add_edge(\"search_flights\", END)  # 답변 -> 종료\n",
    "\n",
    "\n",
    "travel_graph = graph.compile()"
   ]
  },
  {
   "cell_type": "code",
   "execution_count": 5,
   "metadata": {},
   "outputs": [
    {
     "data": {
      "image/png": "[encoded data removed]",
      "text/plain": [
       "<IPython.core.display.Image object>"
      ]
     },
     "metadata": {},
     "output_type": "display_data"
    }
   ],
   "source": [
    "from IPython.display import Image, display\n",
    "# Mermaid 시각화\n",
    "try:\n",
    "    display(Image(travel_graph.get_graph().draw_mermaid_png()))\n",
    "except Exception as e:\n",
    "    print(\"그래프 시각화 실패:\", e)\n",
    "    print(travel_graph.get_graph().draw_mermaid())  # 소스코드 출력"
   ]
  },
  {
   "cell_type": "code",
   "execution_count": 6,
   "metadata": {},
   "outputs": [
    {
     "name": "stdout",
     "output_type": "stream",
     "text": [
      "📅 여행 시작일과 종료일을 입력해 주세요. (예: 2025-04-10 ~ 2025-04-12)\n",
      "📍 여행할 도시를 입력해 주세요.\n",
      "\n",
      "✈️ 항공편 검색 중...\n",
      "   날짜: 2025-06-25 ~ 2025-06-27\n",
      "   도시: paris\n",
      "\n",
      "\n",
      "🧳 최종 여행 계획:\n",
      "  날짜: 2025-06-25 ~ 2025-06-27\n",
      "  도시: paris\n",
      "  항공편:\n",
      "   - 2025-06-25 출발 ✈️ Flight A\n",
      "   - 2025-06-27 귀국 ✈️ Flight B\n"
     ]
    }
   ],
   "source": [
    "initial_state = {\n",
    "    \"start_date\": None,\n",
    "    \"end_date\": None,\n",
    "    \"destination_city\": None,\n",
    "    \"flight_options\": None,\n",
    "    \"user_query\": None,\n",
    "}\n",
    "\n",
    "result = travel_graph.invoke(initial_state)\n",
    "\n",
    "print(\"\\n🧳 최종 여행 계획:\")\n",
    "print(f\"  날짜: {result['start_date']} ~ {result['end_date']}\")\n",
    "print(f\"  도시: {result['destination_city']}\")\n",
    "print(f\"  항공편:\")\n",
    "for option in result[\"flight_options\"]:\n",
    "    print(f\"   - {option}\")\n"
   ]
  }
 ],
 "metadata": {
  "kernelspec": {
   "display_name": "Python (travel-agent)",
   "language": "python",
   "name": "travel-agent"
  },
  "language_info": {
   "codemirror_mode": {
    "name": "ipython",
    "version": 3
   },
   "file_extension": ".py",
   "mimetype": "text/x-python",
   "name": "python",
   "nbconvert_exporter": "python",
   "pygments_lexer": "ipython3",
   "version": "3.12.7"
  }
 },
 "nbformat": 4,
 "nbformat_minor": 2
}
