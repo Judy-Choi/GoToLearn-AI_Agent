{
 "cells": [
  {
   "cell_type": "code",
   "execution_count": 1,
   "metadata": {},
   "outputs": [
    {
     "data": {
      "text/plain": [
       "True"
      ]
     },
     "execution_count": 1,
     "metadata": {},
     "output_type": "execute_result"
    }
   ],
   "source": [
    "from dotenv import load_dotenv\n",
    "\n",
    "# .env 파일의 환경변수를 기존 값과 상관없이 덮어쓰기\n",
    "load_dotenv(override=True)"
   ]
  },
  {
   "cell_type": "code",
   "execution_count": 2,
   "metadata": {},
   "outputs": [],
   "source": [
    "# from langchain.chat_models import ChatOpenAI\n",
    "from langchain_openai import ChatOpenAI\n",
    "import os\n",
    "\n",
    "\n",
    "llm = ChatOpenAI(\n",
    "    # model_name=\"deepseek/deepseek-chat:free\",\n",
    "    model_name=\"meta-llama/llama-3.3-70b-instruct:free\",\n",
    "    temperature=0,\n",
    "    openai_api_base=\"https://openrouter.ai/api/v1\",\n",
    "    openai_api_key=os.getenv(\"OPENROUTER_API_KEY\")\n",
    ")"
   ]
  },
  {
   "cell_type": "markdown",
   "metadata": {},
   "source": [
    "## Part 4.Routing\n",
    "\n",
    "LLM 애플리케이션에서 라우팅은 입력 쿼리나 상태에 따라 적절한 처리 경로나 구성 요소로 요청을 전달하는 메커니즘입니다. \n",
    "\n",
    "LangChain/LangGraph에서 라우팅은 특정 작업에 가장 적합한 모델이나 도구를 선택하고, 복잡한 워크플로우를 관리하며, 비용과 성능 균형을 최적화하는 데 필수적입니다. \n",
    "\n",
    "**Agent**\n",
    "- 도구 선택을 하는 방식으로 라우팅\n",
    "- 따라서, 도구에 대한 description 이 상세하게 작성되어야 합니다.\n",
    "\n",
    "**LLM.with_structured_output**\n",
    "- Function Calling 을 사용하는 방식으로 라우팅"
   ]
  },
  {
   "cell_type": "code",
   "execution_count": 3,
   "metadata": {},
   "outputs": [],
   "source": [
    "from typing import Literal\n",
    "from pydantic import BaseModel, Field\n",
    "from langchain_core.prompts import ChatPromptTemplate\n",
    "from langchain_openai import ChatOpenAI\n",
    "\n",
    "\n",
    "# 사용자 쿼리를 가장 관련성 높은 데이터 소스로 라우팅하는 데이터 모델\n",
    "class RouteQuery(BaseModel):\n",
    "    \"\"\"Route a user query to the most relevant agent.\"\"\"\n",
    "\n",
    "    # 데이터 소스 선택을 위한 리터럴 타입 필드\n",
    "    datasource: Literal[\"ask_city\", \"search_flights\"] = Field(\n",
    "        ...,\n",
    "        description=\"Given a user question choose to route it to `ask_city` or a `search_flights`.\",\n",
    "    )\n",
    "\n",
    "\n",
    "# llm 구조화된 출력 설정\n",
    "structured_llm_router = llm.with_structured_output(RouteQuery)\n",
    "\n",
    "# 프롬프트 설정\n",
    "system = \"\"\"You are a travel assistant expert at routing a user question.\n",
    "- If the user asks about the destination, call `ask_city`.\n",
    "- If the user asks about flights, call `search_flights`.\n",
    "- If the user's question is unrelated to travel, respond with \"I can only help with travel-related questions.\"\n",
    "\n",
    "Do not provide an answer directly. Just determine which method to call.\n",
    "\"\"\"\n",
    "\n",
    "# Routing 을 위한 프롬프트 템플릿 생성\n",
    "route_prompt = ChatPromptTemplate.from_messages(\n",
    "    [\n",
    "        (\"system\", system),\n",
    "        (\"human\", \"{question}\"),\n",
    "    ]\n",
    ")\n",
    "\n",
    "# 프롬프트 템플릿과 구조화된 LLM 라우터를 결합하여 질문 라우터 생성\n",
    "question_router = route_prompt | structured_llm_router"
   ]
  },
  {
   "cell_type": "code",
   "execution_count": 4,
   "metadata": {},
   "outputs": [
    {
     "data": {
      "text/plain": [
       "RouteQuery(datasource='search_flights')"
      ]
     },
     "execution_count": 4,
     "metadata": {},
     "output_type": "execute_result"
    }
   ],
   "source": [
    "question_router.invoke(\"비행기 표 예약해 줘\")"
   ]
  },
  {
   "cell_type": "code",
   "execution_count": 5,
   "metadata": {},
   "outputs": [
    {
     "data": {
      "text/plain": [
       "RouteQuery(datasource='ask_city')"
      ]
     },
     "execution_count": 5,
     "metadata": {},
     "output_type": "execute_result"
    }
   ],
   "source": [
    "question_router.invoke(\"여행 일정을 알려 줘\")"
   ]
  },
  {
   "cell_type": "markdown",
   "metadata": {},
   "source": [
    "---"
   ]
  },
  {
   "cell_type": "markdown",
   "metadata": {},
   "source": [
    "질문 라우팅 노드의 구현입니다.\n",
    "\n",
    "사용자의 질문에 대해 `question_router` 를 호출하여 적절한 데이터 소스로 라우팅합니다.\n",
    "\n",
    "- `web_search`: 웹 검색\n",
    "- `vectorstore`: 벡터 스토어\n",
    "\n",
    "라우팅 결과에 따라 적절한 노드로 라우팅합니다."
   ]
  },
  {
   "cell_type": "code",
   "execution_count": 6,
   "metadata": {},
   "outputs": [],
   "source": [
    "# 질문 라우팅 노드\n",
    "def route_question(state):\n",
    "    print(\"==== [ROUTE QUESTION] ====\")\n",
    "    # 질문 가져오기\n",
    "    question = state[\"question\"]\n",
    "    # 질문 라우팅\n",
    "    source = question_router.invoke({\"question\": question})\n",
    "    # 질문 라우팅 결과에 따른 노드 라우팅\n",
    "    if source.datasource == \"ask_city\":\n",
    "        print(\"\\n==== [GO TO ASK CITY] ====\")\n",
    "        return \"ask_city\"\n",
    "    elif source.datasource == \"search_flights\":\n",
    "        print(\"\\n==== [GO TO SEARCH FLIGHTS] ====\")\n",
    "        return \"search_flights\""
   ]
  },
  {
   "cell_type": "markdown",
   "metadata": {},
   "source": [
    "### 그래프 생성\n",
    "\n",
    "이 단계에서는 `web_search`, `retrieve`, `generate` 노드를 생성하고, 이들을 연결하는 조건부 엣지를 추가합니다.\n",
    "\n",
    "- `web_search`: 웹 검색 노드\n",
    "- `retrieve`: 문서 검색 노드\n",
    "- `generate`: 답변 생성 노드\n",
    "\n",
    "조건부 엣지: 질문 라우팅 노드에서 반환된 결과에 따라 적절한 노드로 라우팅합니다.\n",
    "\n",
    "- `need to search web`: 웹 검색 노드로 라우팅\n",
    "- `search on DB`: 벡터 스토어 노드로 라우팅\n",
    "\n",
    "\n"
   ]
  },
  {
   "cell_type": "code",
   "execution_count": 9,
   "metadata": {},
   "outputs": [],
   "source": [
    "from langgraph.graph import StateGraph, END\n",
    "from typing import TypedDict, Optional, List\n",
    "\n",
    "# 상태 정의\n",
    "class TravelState(TypedDict):\n",
    "    start_date: Optional[str]\n",
    "    end_date: Optional[str]\n",
    "    destination_city: Optional[str]\n",
    "    flight_options: Optional[List[str]]\n",
    "\n",
    "\n",
    "# 도시 묻는 노드\n",
    "def ask_city(state: TravelState) -> TravelState:\n",
    "    print(\"📍 여행할 도시를 입력해 주세요.\")\n",
    "    city = input(\"→ 입력: \")\n",
    "    state[\"destination_city\"] = city.strip()\n",
    "    return state\n",
    "\n",
    "# 항공편 찾는 노드\n",
    "def search_flights(state: TravelState) -> TravelState:\n",
    "    print(f\"\\n✈️ 항공편 검색 중...\")\n",
    "    print(f\"   날짜: {state['start_date']} ~ {state['end_date']}\")\n",
    "    print(f\"   도시: {state['destination_city']}\\n\")\n",
    "\n",
    "    state[\"flight_options\"] = [\n",
    "        f\"{state['start_date']} 출발 ✈️ Flight A\",\n",
    "        f\"{state['end_date']} 귀국 ✈️ Flight B\"\n",
    "    ]\n",
    "    return state\n",
    "\n",
    "# 답변 생성 노드\n",
    "def generate(state: TravelState) -> TravelState:\n",
    "    print(f\"\\n🎯 여행 정보 요약:\")\n",
    "    print(f\"   도시: {state['destination_city']}\")\n",
    "    print(f\"   날짜: {state['start_date']} ~ {state['end_date']}\")\n",
    "    print(f\"   항공편: {len(state['flight_options'])}개 옵션\")\n",
    "    \n",
    "    print(f\"\\n📋 추천 항공편:\")\n",
    "    for i, flight in enumerate(state['flight_options'], 1):\n",
    "        print(f\"   {i}. {flight}\")\n",
    "    \n",
    "    print(f\"\\n✨ 여행 계획이 완성되었습니다!\")\n",
    "    return state\n"
   ]
  },
  {
   "cell_type": "code",
   "execution_count": 12,
   "metadata": {},
   "outputs": [],
   "source": [
    "from langgraph.graph import END, StateGraph, START\n",
    "from langgraph.checkpoint.memory import MemorySaver\n",
    "\n",
    "# 그래프 상태 초기화\n",
    "workflow = StateGraph(TravelState)\n",
    "\n",
    "# 노드 정의\n",
    "workflow.add_node(\"ask_city\", ask_city)\n",
    "workflow.add_node(\"search_flights\", search_flights)\n",
    "workflow.add_node(\"generate\", generate)\n",
    "\n",
    "# 그래프 빌드\n",
    "workflow.add_conditional_edges(\n",
    "    START,\n",
    "    route_question,\n",
    "    {\n",
    "        \"ask city\": \"ask_city\",  # 웹 검색으로 라우팅\n",
    "        \"search flight\": \"search_flights\",  # 벡터스토어로 라우팅\n",
    "    },\n",
    ")\n",
    "workflow.add_edge(\"ask_city\", \"generate\")  # 문서 검색 후 답변 생성\n",
    "workflow.add_edge(\"search_flights\", \"generate\")  # 웹 검색 후 답변 생성\n",
    "workflow.add_edge(\"generate\", END)  # 답변 생성 후 종료\n",
    "\n",
    "\n",
    "# 그래프 컴파일\n",
    "travel_graph = workflow.compile(checkpointer=MemorySaver())"
   ]
  },
  {
   "cell_type": "code",
   "execution_count": 13,
   "metadata": {},
   "outputs": [
    {
     "data": {
      "image/png": "[encoded data removed]",
      "text/plain": [
       "<IPython.core.display.Image object>"
      ]
     },
     "metadata": {},
     "output_type": "display_data"
    }
   ],
   "source": [
    "from IPython.display import Image, display\n",
    "# Mermaid 시각화\n",
    "try:\n",
    "    display(Image(travel_graph.get_graph().draw_mermaid_png()))\n",
    "except Exception as e:\n",
    "    print(\"그래프 시각화 실패:\", e)\n",
    "    print(travel_graph.get_graph().draw_mermaid())  # 소스코드 출력"
   ]
  },
  {
   "cell_type": "code",
   "execution_count": 16,
   "metadata": {},
   "outputs": [
    {
     "data": {
      "text/plain": [
       "RouteQuery(action='book_flight')"
      ]
     },
     "execution_count": 16,
     "metadata": {},
     "output_type": "execute_result"
    }
   ],
   "source": [
    "from langchain.chat_models import ChatOpenAI\n",
    "from langchain.output_parsers import PydanticOutputParser\n",
    "from pydantic import BaseModel\n",
    "import os\n",
    "\n",
    "# Pydantic 파서 생성\n",
    "parser = PydanticOutputParser(pydantic_object=RouteQuery)\n",
    "\n",
    "# LLM 실행 및 파싱\n",
    "def structured_llm_router(query: str):\n",
    "    prompt = f\"Classify this query into an action: '{query}'\\nReturn the output as JSON in this format: {parser.get_format_instructions()}\"\n",
    "    response = llm.invoke(prompt)  # LLM 호출\n",
    "    parsed_result = parser.parse(response.content)  # JSON 파싱\n",
    "    return parsed_result\n",
    "\n",
    "# 테스트 실행\n",
    "query = \"비행기 예약해줘.\"\n",
    "result = structured_llm_router(query)\n",
    "result\n"
   ]
  },
  {
   "cell_type": "code",
   "execution_count": null,
   "metadata": {},
   "outputs": [],
   "source": []
  }
 ],
 "metadata": {
  "kernelspec": {
   "display_name": "Python (travel-agent)",
   "language": "python",
   "name": "travel-agent"
  },
  "language_info": {
   "codemirror_mode": {
    "name": "ipython",
    "version": 3
   },
   "file_extension": ".py",
   "mimetype": "text/x-python",
   "name": "python",
   "nbconvert_exporter": "python",
   "pygments_lexer": "ipython3",
   "version": "3.12.7"
  }
 },
 "nbformat": 4,
 "nbformat_minor": 2
}
